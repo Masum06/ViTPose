{
 "cells": [
  {
   "cell_type": "code",
   "execution_count": null,
   "metadata": {},
   "outputs": [
    {
     "ename": "",
     "evalue": "",
     "output_type": "error",
     "traceback": [
      "\u001b[1;31mFailed to start the Kernel. \n",
      "\u001b[1;31mTraceback (most recent call last):\n",
      "\u001b[1;31m  File \"/home/hci-monster-linux/.vscode/extensions/ms-toolsai.jupyter-2022.9.1303220346/pythonFiles/vscode_datascience_helpers/jupyter_daemon.py\", line 158, in _start_notebook\n",
      "\u001b[1;31m    from notebook import notebookapp as app\n",
      "\u001b[1;31m  File \"/home/hci-monster-linux/anaconda3/envs/hand_tracking/lib/python3.7/site-packages/notebook/notebookapp.py\", line 36, in <module>\n",
      "\u001b[1;31m    from jinja2 import Environment, FileSystemLoader\n",
      "\u001b[1;31m  File \"/home/hci-monster-linux/anaconda3/envs/hand_tracking/lib/python3.7/site-packages/jinja2/__init__.py\", line 8, in <module>\n",
      "\u001b[1;31m    from .environment import Environment as Environment\n",
      "\u001b[1;31m  File \"/home/hci-monster-linux/anaconda3/envs/hand_tracking/lib/python3.7/site-packages/jinja2/environment.py\", line 14, in <module>\n",
      "\u001b[1;31m    from markupsafe import Markup\n",
      "\u001b[1;31mModuleNotFoundError: No module named 'markupsafe'\n",
      "\u001b[1;31m\n",
      "\u001b[1;31mDuring handling of the above exception, another exception occurred:\n",
      "\u001b[1;31m\n",
      "\u001b[1;31mTraceback (most recent call last):\n",
      "\u001b[1;31m  File \"/home/hci-monster-linux/.vscode/extensions/ms-toolsai.jupyter-2022.9.1303220346/pythonFiles/vscode_datascience_helpers/daemon/daemon_python.py\", line 54, in _decorator\n",
      "\u001b[1;31m    return func(self, *args, **kwargs)\n",
      "\u001b[1;31m  File \"/home/hci-monster-linux/.vscode/extensions/ms-toolsai.jupyter-2022.9.1303220346/pythonFiles/vscode_datascience_helpers/jupyter_daemon.py\", line 111, in m_exec_module_observable\n",
      "\u001b[1;31m    self._start_notebook(args, cwd, env)\n",
      "\u001b[1;31m  File \"/home/hci-monster-linux/.vscode/extensions/ms-toolsai.jupyter-2022.9.1303220346/pythonFiles/vscode_datascience_helpers/jupyter_daemon.py\", line 160, in _start_notebook\n",
      "\u001b[1;31m    from notebook import app as app\n",
      "\u001b[1;31mImportError: cannot import name 'app' from 'notebook' (/home/hci-monster-linux/anaconda3/envs/hand_tracking/lib/python3.7/site-packages/notebook/__init__.py)\n",
      "\u001b[1;31m\n",
      "\u001b[1;31mFailed to run jupyter as observable with args notebook --no-browser --notebook-dir=\"/home/hci-monster-linux/Documents/Hi5/alex_folder/Hi5-data/ViTPose/temp_scripts\" --config=/tmp/7dc9c796-e26e-48a3-bc24-963d9b00119a/jupyter_notebook_config.py --NotebookApp.iopub_data_rate_limit=10000000000.0. \n",
      "\u001b[1;31mView Jupyter <a href='command:jupyter.viewOutput'>log</a> for further details."
     ]
    }
   ],
   "source": [
    "import json"
   ]
  },
  {
   "cell_type": "code",
   "execution_count": null,
   "metadata": {},
   "outputs": [
    {
     "ename": "",
     "evalue": "",
     "output_type": "error",
     "traceback": [
      "\u001b[1;31mFailed to start the Kernel. \n",
      "\u001b[1;31mTraceback (most recent call last):\n",
      "\u001b[1;31m  File \"/home/hci-monster-linux/.vscode/extensions/ms-toolsai.jupyter-2022.9.1303220346/pythonFiles/vscode_datascience_helpers/jupyter_daemon.py\", line 158, in _start_notebook\n",
      "\u001b[1;31m    from notebook import notebookapp as app\n",
      "\u001b[1;31m  File \"/home/hci-monster-linux/anaconda3/envs/hand_tracking/lib/python3.7/site-packages/notebook/notebookapp.py\", line 36, in <module>\n",
      "\u001b[1;31m    from jinja2 import Environment, FileSystemLoader\n",
      "\u001b[1;31m  File \"/home/hci-monster-linux/anaconda3/envs/hand_tracking/lib/python3.7/site-packages/jinja2/__init__.py\", line 8, in <module>\n",
      "\u001b[1;31m    from .environment import Environment as Environment\n",
      "\u001b[1;31m  File \"/home/hci-monster-linux/anaconda3/envs/hand_tracking/lib/python3.7/site-packages/jinja2/environment.py\", line 14, in <module>\n",
      "\u001b[1;31m    from markupsafe import Markup\n",
      "\u001b[1;31mModuleNotFoundError: No module named 'markupsafe'\n",
      "\u001b[1;31m\n",
      "\u001b[1;31mDuring handling of the above exception, another exception occurred:\n",
      "\u001b[1;31m\n",
      "\u001b[1;31mTraceback (most recent call last):\n",
      "\u001b[1;31m  File \"/home/hci-monster-linux/.vscode/extensions/ms-toolsai.jupyter-2022.9.1303220346/pythonFiles/vscode_datascience_helpers/daemon/daemon_python.py\", line 54, in _decorator\n",
      "\u001b[1;31m    return func(self, *args, **kwargs)\n",
      "\u001b[1;31m  File \"/home/hci-monster-linux/.vscode/extensions/ms-toolsai.jupyter-2022.9.1303220346/pythonFiles/vscode_datascience_helpers/jupyter_daemon.py\", line 111, in m_exec_module_observable\n",
      "\u001b[1;31m    self._start_notebook(args, cwd, env)\n",
      "\u001b[1;31m  File \"/home/hci-monster-linux/.vscode/extensions/ms-toolsai.jupyter-2022.9.1303220346/pythonFiles/vscode_datascience_helpers/jupyter_daemon.py\", line 160, in _start_notebook\n",
      "\u001b[1;31m    from notebook import app as app\n",
      "\u001b[1;31mImportError: cannot import name 'app' from 'notebook' (/home/hci-monster-linux/anaconda3/envs/hand_tracking/lib/python3.7/site-packages/notebook/__init__.py)\n",
      "\u001b[1;31m\n",
      "\u001b[1;31mFailed to run jupyter as observable with args notebook --no-browser --notebook-dir=\"/home/hci-monster-linux/Documents/Hi5/alex_folder/Hi5-data/ViTPose/temp_scripts\" --config=/tmp/8e1d8c70-6516-40a9-aad4-62d802eade6f/jupyter_notebook_config.py --NotebookApp.iopub_data_rate_limit=10000000000.0. \n",
      "\u001b[1;31mView Jupyter <a href='command:jupyter.viewOutput'>log</a> for further details."
     ]
    }
   ],
   "source": [
    "# #load the onehand json files\n",
    "# onehand_train = json.load(open('/home/hci-monster-linux/Documents/Hi5/alex_folder/Hi5-data/data/onehand10k/annotations/onehand10k_train.json'))\n",
    "# onehand_test = json.load(open('/home/hci-monster-linux/Documents/Hi5/alex_folder/Hi5-data/data/onehand10k/annotations/onehand10k_test.json'))\n",
    "\n",
    "# #load the hi5 json files\n",
    "# hi5_test = json.load(open('/home/hci-monster-linux/Documents/Hi5/alex_folder/Hi5-data/ViTPose/data/hi510k/annotations/person_keypoints_test3k.json'))\n",
    "# hi5_train = json.load(open('/home/hci-monster-linux/Documents/Hi5/alex_folder/Hi5-data/ViTPose/data/hi510k/annotations/person_keypoints_train10k.json'))\n"
   ]
  },
  {
   "cell_type": "code",
   "execution_count": null,
   "metadata": {},
   "outputs": [
    {
     "ename": "",
     "evalue": "",
     "output_type": "error",
     "traceback": [
      "\u001b[1;31mFailed to start the Kernel. \n",
      "\u001b[1;31mTraceback (most recent call last):\n",
      "\u001b[1;31m  File \"/home/hci-monster-linux/.vscode/extensions/ms-toolsai.jupyter-2022.9.1303220346/pythonFiles/vscode_datascience_helpers/jupyter_daemon.py\", line 158, in _start_notebook\n",
      "\u001b[1;31m    from notebook import notebookapp as app\n",
      "\u001b[1;31m  File \"/home/hci-monster-linux/anaconda3/envs/hand_tracking/lib/python3.7/site-packages/notebook/notebookapp.py\", line 36, in <module>\n",
      "\u001b[1;31m    from jinja2 import Environment, FileSystemLoader\n",
      "\u001b[1;31m  File \"/home/hci-monster-linux/anaconda3/envs/hand_tracking/lib/python3.7/site-packages/jinja2/__init__.py\", line 8, in <module>\n",
      "\u001b[1;31m    from .environment import Environment as Environment\n",
      "\u001b[1;31m  File \"/home/hci-monster-linux/anaconda3/envs/hand_tracking/lib/python3.7/site-packages/jinja2/environment.py\", line 14, in <module>\n",
      "\u001b[1;31m    from markupsafe import Markup\n",
      "\u001b[1;31mModuleNotFoundError: No module named 'markupsafe'\n",
      "\u001b[1;31m\n",
      "\u001b[1;31mDuring handling of the above exception, another exception occurred:\n",
      "\u001b[1;31m\n",
      "\u001b[1;31mTraceback (most recent call last):\n",
      "\u001b[1;31m  File \"/home/hci-monster-linux/.vscode/extensions/ms-toolsai.jupyter-2022.9.1303220346/pythonFiles/vscode_datascience_helpers/daemon/daemon_python.py\", line 54, in _decorator\n",
      "\u001b[1;31m    return func(self, *args, **kwargs)\n",
      "\u001b[1;31m  File \"/home/hci-monster-linux/.vscode/extensions/ms-toolsai.jupyter-2022.9.1303220346/pythonFiles/vscode_datascience_helpers/jupyter_daemon.py\", line 111, in m_exec_module_observable\n",
      "\u001b[1;31m    self._start_notebook(args, cwd, env)\n",
      "\u001b[1;31m  File \"/home/hci-monster-linux/.vscode/extensions/ms-toolsai.jupyter-2022.9.1303220346/pythonFiles/vscode_datascience_helpers/jupyter_daemon.py\", line 160, in _start_notebook\n",
      "\u001b[1;31m    from notebook import app as app\n",
      "\u001b[1;31mImportError: cannot import name 'app' from 'notebook' (/home/hci-monster-linux/anaconda3/envs/hand_tracking/lib/python3.7/site-packages/notebook/__init__.py)\n",
      "\u001b[1;31m\n",
      "\u001b[1;31mFailed to run jupyter as observable with args notebook --no-browser --notebook-dir=\"/home/hci-monster-linux/Documents/Hi5/alex_folder/Hi5-data/ViTPose/temp_scripts\" --config=/tmp/8e1d8c70-6516-40a9-aad4-62d802eade6f/jupyter_notebook_config.py --NotebookApp.iopub_data_rate_limit=10000000000.0. \n",
      "\u001b[1;31mView Jupyter <a href='command:jupyter.viewOutput'>log</a> for further details."
     ]
    }
   ],
   "source": [
    "json_file = json.load(open('/home/hci-monster-linux/Documents/Hi5/alex_folder/Hi5-data/ViTPose/data/hi550k/annotations/my_train_coco_train41k.json'))\n",
    "\n",
    "#write json file\n",
    "with open('/home/hci-monster-linux/Documents/Hi5/alex_folder/Hi5-data/ViTPose/data/hi550k/annotations/my_train_coco_train41k.json', 'w') as f:\n",
    "    json.dump(json_file, f, indent=4)\n"
   ]
  }
 ],
 "metadata": {
  "kernelspec": {
   "display_name": "Python 3.10.8 ('vitpose_notebooks')",
   "language": "python",
   "name": "python3"
  },
  "language_info": {
   "name": "python",
   "version": "3.10.8"
  },
  "orig_nbformat": 4,
  "vscode": {
   "interpreter": {
    "hash": "7522f73520b3e3407173a9d33c9a7d260341270758c8ac065f19c176bade6c7f"
   }
  }
 },
 "nbformat": 4,
 "nbformat_minor": 2
}
