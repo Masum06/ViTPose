{
 "cells": [
  {
   "cell_type": "markdown",
   "metadata": {},
   "source": [
    "Onehand10k Format:\n",
    "- wrist\n",
    "- thumb1-4\n",
    "- forefinger1-4\n",
    "- middle_finger1-4\n",
    "- ring_finger1-4\n",
    "- pinky_finger1-4\n",
    "\n",
    "Hi5 Format:\n",
    "- wrist\n",
    "- indexA-D\n",
    "- middleA-D\n",
    "- ringA-D\n",
    "- pinkyA-D\n",
    "- thumbA-D\n",
    "\n",
    "for clarification: \n",
    "        The lowest number label is the base of the finger\n",
    "        The highest number label is the tip of the finger\n",
    "        matches proper ordrer of the data_checker process (see data_checker.py, getKeypoints())\n",
    "\n",
    "    JSON format:\n",
    "        X,Y, 2\n",
    "        Wrist, IndexA-D, MiddleA-D, RingA-D, PinkyA-D, ThumbA-D\n",
    "\n",
    "rewrite onehand10k to match hi510k style\n"
   ]
  },
  {
   "cell_type": "code",
   "execution_count": null,
   "metadata": {},
   "outputs": [
    {
     "ename": "",
     "evalue": "",
     "output_type": "error",
     "traceback": [
      "\u001b[1;31mFailed to start the Kernel. \n",
      "\u001b[1;31mTraceback (most recent call last):\n",
      "\u001b[1;31m  File \"/home/hci-monster-linux/.vscode/extensions/ms-toolsai.jupyter-2022.9.1303220346/pythonFiles/vscode_datascience_helpers/jupyter_daemon.py\", line 158, in _start_notebook\n",
      "\u001b[1;31m    from notebook import notebookapp as app\n",
      "\u001b[1;31m  File \"/home/hci-monster-linux/anaconda3/envs/hand_tracking/lib/python3.7/site-packages/notebook/notebookapp.py\", line 36, in <module>\n",
      "\u001b[1;31m    from jinja2 import Environment, FileSystemLoader\n",
      "\u001b[1;31m  File \"/home/hci-monster-linux/anaconda3/envs/hand_tracking/lib/python3.7/site-packages/jinja2/__init__.py\", line 8, in <module>\n",
      "\u001b[1;31m    from .environment import Environment as Environment\n",
      "\u001b[1;31m  File \"/home/hci-monster-linux/anaconda3/envs/hand_tracking/lib/python3.7/site-packages/jinja2/environment.py\", line 14, in <module>\n",
      "\u001b[1;31m    from markupsafe import Markup\n",
      "\u001b[1;31mModuleNotFoundError: No module named 'markupsafe'\n",
      "\u001b[1;31m\n",
      "\u001b[1;31mDuring handling of the above exception, another exception occurred:\n",
      "\u001b[1;31m\n",
      "\u001b[1;31mTraceback (most recent call last):\n",
      "\u001b[1;31m  File \"/home/hci-monster-linux/.vscode/extensions/ms-toolsai.jupyter-2022.9.1303220346/pythonFiles/vscode_datascience_helpers/daemon/daemon_python.py\", line 54, in _decorator\n",
      "\u001b[1;31m    return func(self, *args, **kwargs)\n",
      "\u001b[1;31m  File \"/home/hci-monster-linux/.vscode/extensions/ms-toolsai.jupyter-2022.9.1303220346/pythonFiles/vscode_datascience_helpers/jupyter_daemon.py\", line 111, in m_exec_module_observable\n",
      "\u001b[1;31m    self._start_notebook(args, cwd, env)\n",
      "\u001b[1;31m  File \"/home/hci-monster-linux/.vscode/extensions/ms-toolsai.jupyter-2022.9.1303220346/pythonFiles/vscode_datascience_helpers/jupyter_daemon.py\", line 160, in _start_notebook\n",
      "\u001b[1;31m    from notebook import app as app\n",
      "\u001b[1;31mImportError: cannot import name 'app' from 'notebook' (/home/hci-monster-linux/anaconda3/envs/hand_tracking/lib/python3.7/site-packages/notebook/__init__.py)\n",
      "\u001b[1;31m\n",
      "\u001b[1;31mFailed to run jupyter as observable with args notebook --no-browser --notebook-dir=\"/home/hci-monster-linux/Documents/Hi5/alex_folder/Hi5-data/ViTPose/temp_scripts\" --config=/tmp/33a30d3d-5535-45cd-94f8-2a3e0dd624a3/jupyter_notebook_config.py --NotebookApp.iopub_data_rate_limit=10000000000.0. \n",
      "\u001b[1;31mView Jupyter <a href='command:jupyter.viewOutput'>log</a> for further details."
     ]
    }
   ],
   "source": [
    "def onehand_to_hi5(onehand_path):\n",
    "    #read txt file to data\n",
    "    with open(onehand_path, 'r') as f:\n",
    "        data = f.readlines()\n",
    "    print(data)\n",
    "    #convert to json\n",
    "    hi5_format = {}\n",
    "    info = {}\n",
    "    info['version'] = '1.0'\n",
    "    info['description'] = 'OneHand10K Hand Pose Estimation Dataset'\n",
    "    info['contributor'] = 'Yangang Wang'\n",
    "    info['url'] = 'https://ieeexplore.ieee.org/stamp/stamp.jsp?tp=&arnumber=8529221'\n",
    "    info['date_created'] = '2019/11/11'\n",
    "    hi5_format['info'] = info\n",
    "    licenses = []\n",
    "    license = {}\n",
    "    license['id'] = 2\n",
    "    license['name'] = 'Onehand10K'\n",
    "    license['url'] = 'https://ieeexplore.ieee.org/stamp/stamp.jsp?tp=&arnumber=8529221'\n",
    "    licenses.append(license)\n",
    "    hi5_format['licenses'] = licenses\n",
    "    images = []\n",
    "    annotations = []\n",
    "    categories = []\n",
    "\n",
    "    #add images and annotations\n",
    "    # for i in range(len(data)):\n",
    "    #     image = {}\n",
    "    #     image['id'] = i\n",
    "    #     image['file_name'] = data[i].split(' ')[0]\n",
    "    #     image['width'] = 1920\n",
    "    #     image['height'] = 1080\n",
    "    #     image['license'] = 2\n",
    "    #     images.append(image)\n",
    "    #     annotation = {}\n",
    "    #     annotation['id'] = i\n",
    "    #     annotation['image_id'] = i\n",
    "    #     annotation['category_id'] = 1\n",
    "    #     annotation['iscrowd'] = 0\n",
    "    #     annotation['area'] = 0\n",
    "    #     annotation['bbox'] = [0, 0, 0, 0]\n",
    "    #     annotation['num_keypoints'] = 21\n",
    "    #     annotation['keypoints'] = [float(x) for x in data[i].split(' ')[1:]]\n",
    "    #     annotations.append(annotation)"
   ]
  }
 ],
 "metadata": {
  "kernelspec": {
   "display_name": "Python 3.9.12 ('base')",
   "language": "python",
   "name": "python3"
  },
  "language_info": {
   "name": "python",
   "version": "3.9.12"
  },
  "orig_nbformat": 4,
  "vscode": {
   "interpreter": {
    "hash": "3200cbe81b059ac841a9446e9f74953686104f45a05d85f2db96837d3c70d5c1"
   }
  }
 },
 "nbformat": 4,
 "nbformat_minor": 2
}
