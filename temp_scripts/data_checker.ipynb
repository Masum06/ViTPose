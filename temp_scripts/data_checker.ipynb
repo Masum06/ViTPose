{
 "cells": [
  {
   "cell_type": "code",
   "execution_count": 111,
   "metadata": {},
   "outputs": [],
   "source": [
    "import cv2 as cv\n",
    "import os\n",
    "import pandas as pd"
   ]
  },
  {
   "cell_type": "code",
   "execution_count": 112,
   "metadata": {},
   "outputs": [
    {
     "name": "stdout",
     "output_type": "stream",
     "text": [
      "e:\\Hi5-data\\ViTPose\n"
     ]
    }
   ],
   "source": [
    "ROOT_DIR = os.path.abspath(\"../\")\n",
    "print(ROOT_DIR)"
   ]
  },
  {
   "cell_type": "code",
   "execution_count": 113,
   "metadata": {},
   "outputs": [
    {
     "name": "stdout",
     "output_type": "stream",
     "text": [
      "e:\\Hi5-data\\ViTPose\\temp_data\\\n",
      "E:\\Hi5-data\\train10k_blur\n"
     ]
    }
   ],
   "source": [
    "root_data_path = ROOT_DIR +'\\\\temp_data\\\\'\n",
    "print(root_data_path)\n",
    "\n",
    "root_image_path = 'E:\\Hi5-data\\\\train10k_blur'\n",
    "print(root_image_path)"
   ]
  },
  {
   "cell_type": "code",
   "execution_count": 114,
   "metadata": {},
   "outputs": [],
   "source": [
    "# check size of all images in the folder\n",
    "for i in range(1000, 9999):\n",
    "    #check if the file exists\n",
    "    if os.path.isfile(root_data_path + '\\\\00000000' + str(i) + '.png'):\n",
    "        img = cv.imread(root_data_path + '\\\\00000000' + str(i) + '.png')\n",
    "        print(i, img.shape)\n",
    "        break\n",
    "    # img = cv.imread(root_data_path + '\\\\' + str(i) + '.jpg')\n",
    "    # print(img.shape)"
   ]
  },
  {
   "cell_type": "markdown",
   "metadata": {},
   "source": [
    "assume all files are of the size: (576, 720, 3)"
   ]
  },
  {
   "cell_type": "markdown",
   "metadata": {},
   "source": [
    "# CSV to COCO JSON\n"
   ]
  },
  {
   "cell_type": "code",
   "execution_count": 115,
   "metadata": {},
   "outputs": [],
   "source": [
    "import json\n",
    "import csv\n",
    "def make_json(csv_path, row = None, json_path=None):\n",
    "    data = {}\n",
    "    with open(csv_path, encoding='utf-8') as csvf:\n",
    "        csvReader = csv.DictReader(csvf)\n",
    "        for rows in csvReader:\n",
    "            if row == None:\n",
    "                row = 'ID'\n",
    "            key = rows[row]\n",
    "            data[key] = rows\n",
    "\n",
    "    if json_path is None:\n",
    "        json_path = csv_path.replace('.csv', 'data.json')\n",
    "    with open(json_path, 'w', encoding='utf-8') as jsonf:\n",
    "        jsonf.write(json.dumps(data, indent=4))\n",
    "    \n",
    "    return data"
   ]
  },
  {
   "cell_type": "code",
   "execution_count": 116,
   "metadata": {},
   "outputs": [],
   "source": [
    "def make_info_json(description, version, year, date_created):\n",
    "    info = {}\n",
    "    info['description'] = description\n",
    "    info['version'] = version\n",
    "    info['year'] = year\n",
    "    info['date_created'] = date_created\n",
    "    return info\n"
   ]
  },
  {
   "cell_type": "code",
   "execution_count": 117,
   "metadata": {},
   "outputs": [],
   "source": [
    "def getFileName(key):\n",
    "    #all image have 12 digit file name\n",
    "    key_size = len(key)\n",
    "    zero_path = '000000000000'\n",
    "    file_name = zero_path[:12-key_size] + key + '.png'\n",
    "    if os.path.isfile(root_image_path + '\\\\' + file_name):\n",
    "        # print(file_name)\n",
    "        return file_name\n",
    "    else:\n",
    "        print('file not found: ', file_name, 'key: ', key, '12-key_size: ',12-key_size)\n",
    "        return None"
   ]
  },
  {
   "cell_type": "code",
   "execution_count": 118,
   "metadata": {},
   "outputs": [],
   "source": [
    "def getKeyPoints(data_json):\n",
    "    #x,y,confidence\n",
    "    key_points = [\n",
    "            # Wrist, dataset 0\n",
    "            float(data_json['WristX']), float(data_json['WristY']), 1,\n",
    "             # Thumb, datasset 1-4\n",
    "            float(data_json['Thumb_A_X_Pos']), float(data_json['Thumb_A_Y_Pos']), 1,\n",
    "            float(data_json['Thumb_B_X_Pos']), float(data_json['Thumb_B_Y_Pos']), 1,\n",
    "            float(data_json['Thumb_C_X_Pos']), float(data_json['Thumb_C_Y_Pos']), 1,\n",
    "            float(data_json['Thumb_D_X_Pos']), float(data_json['Thumb_D_Y_Pos']), 1,\n",
    "            #Index, dataset 5-8\n",
    "            float(data_json['Index_A_X_Pos']), float(data_json['Index_A_Y_Pos']), 1,\n",
    "            float(data_json['Index_B_X_Pos']), float(data_json['Index_B_X_Pos']), 1,\n",
    "            float(data_json['Index_C_X_Pos']), float(data_json['Index_C_Y_Pos']), 1,\n",
    "            float(data_json['Index_D_X_Pos']), float(data_json['Index_D_Y_Pos']), 1,\n",
    "            # Middle, dataset 9-12\n",
    "            float(data_json['Middle_A_X_Pos']), float(data_json['Middle_A_Y_Pos']), 1,\n",
    "            float(data_json['Middle_B_X_Pos']), float(data_json['Middle_B_Y_Pos']), 1,\n",
    "            float(data_json['Middle_C_X_Pos']), float(data_json['Middle_C_Y_Pos']), 1,\n",
    "            float(data_json['Middle_D_X_Pos']), float(data_json['Middle_D_Y_Pos']), 1,\n",
    "            # Ring, dataset 13-16\n",
    "            float(data_json['Ring_A_X_Pos']), float(data_json['Ring_A_Y_Pos']), 1,\n",
    "            float(data_json['Ring_B_X_Pos']), float(data_json['Ring_B_Y_Pos']), 1,\n",
    "            float(data_json['Ring_C_X_Pos']), float(data_json['Ring_C_Y_Pos']), 1,\n",
    "            float(data_json['Ring_D_X_Pos']), float(data_json['Ring_D_Y_Pos']), 1,\n",
    "            # Pinky, dataset 17-20\n",
    "            float(data_json['Pinky_A_X_Pos']), float(data_json['Pinky_A_Y_Pos']), 1,\n",
    "            float(data_json['Pinky_B_X_Pos']), float(data_json['Pinky_B_Y_Pos']), 1,\n",
    "            float(data_json['Pinky_C_X_Pos']), float(data_json['Pinky_C_Y_Pos']), 1,\n",
    "            float(data_json['Pinky_D_X_Pos']), float(data_json['Pinky_D_Y_Pos']), 1,\n",
    "           \n",
    "            \n",
    "        ]\n",
    "\n",
    "    return key_points"
   ]
  },
  {
   "cell_type": "code",
   "execution_count": 119,
   "metadata": {},
   "outputs": [],
   "source": [
    "def notPoseEstimate(k):\n",
    "    if k[:5] == \"Index\" or k[:6] == \"Middle\" or k[:4] == \"Ring\" or k[:5] == \"Pinky\" or k[:5] == \"Thumb\" or k[:5] == \"Wrist\":\n",
    "        return False\n",
    "\n",
    "    return True"
   ]
  },
  {
   "cell_type": "code",
   "execution_count": 120,
   "metadata": {},
   "outputs": [],
   "source": [
    "def make_dataset_json(input_csv, info_json, output_json=None):\n",
    "    full_json = {}\n",
    "    data_json = make_json(input_csv)\n",
    "\n",
    "    #add info\n",
    "    full_json['info'] = info_json\n",
    "    full_json['liscense'] = \"\"\n",
    "    full_json['images'] = []\n",
    "    full_json['annotations'] = []\n",
    "    for key in data_json:\n",
    "        #image label processing\n",
    "        image = {}\n",
    "        image['id'] = key\n",
    "        image['width'] = 576 \n",
    "        image['height'] = 720\n",
    "        image['file_name'] = getFileName(key)\n",
    "        full_json['images'].append(image)\n",
    "\n",
    "        #annotation processing\n",
    "        annotation = {}\n",
    "        annotation['id'] = key\n",
    "        annotation['image_id'] = key\n",
    "        for k in data_json[key]:\n",
    "            if notPoseEstimate(k):\n",
    "                annotation[k] = data_json[key][k]\n",
    "        # annotation['iscrowd'] = 0\n",
    "        # annotation['exposure'] = data_json[key]['Exposure']\n",
    "        # annotation['rotation'] = data_json[key]['Rotation']\n",
    "        \n",
    "\n",
    "        # annotation['area'] = 0\n",
    "        # annotation['bbox'] = [0,0,0,0]\n",
    "        annotation['keypoints'] = getKeyPoints(data_json[key])\n",
    "        full_json['annotations'].append(annotation)\n",
    "        \n",
    "\n",
    "    # return full_json\n",
    "    if output_json is None:\n",
    "        output_json = input_csv.replace('.csv', '.json')\n",
    "    with open(output_json, 'w', encoding='utf-8') as jsonf:\n",
    "        jsonf.write(json.dumps(full_json, indent=4))\n",
    "    return output_json\n",
    "    \n"
   ]
  },
  {
   "cell_type": "code",
   "execution_count": 121,
   "metadata": {},
   "outputs": [
    {
     "name": "stdout",
     "output_type": "stream",
     "text": [
      "e:\\Hi5-data\\ViTPose\\temp_data\\train10k.json\n"
     ]
    }
   ],
   "source": [
    "csv_path = ROOT_DIR + '\\\\temp_data\\\\train10k.csv'\n",
    "info_json = make_info_json('Hi510kDataset', '1.0', '2022', '2022/11/10')\n",
    "data_set_path = make_dataset_json(csv_path, info_json)\n",
    "print(data_set_path)\n"
   ]
  },
  {
   "cell_type": "markdown",
   "metadata": {},
   "source": [
    "keypoints are groups of 3,  x,y,confidence\n"
   ]
  },
  {
   "cell_type": "markdown",
   "metadata": {},
   "source": [
    "format the COCO JSON I was sent cuz its ugly\n",
    "`"
   ]
  },
  {
   "cell_type": "code",
   "execution_count": 124,
   "metadata": {},
   "outputs": [
    {
     "data": {
      "text/plain": [
       "'E:\\\\Hi5-data\\\\ViTPose\\\\temp_data\\\\person_keypoints_train10k.json'"
      ]
     },
     "execution_count": 124,
     "metadata": {},
     "output_type": "execute_result"
    }
   ],
   "source": [
    "def format_json(input_json, output_json = None):\n",
    "    with open(input_json, 'r') as jsonf:\n",
    "        data = json.load(jsonf)\n",
    "    if output_json is None:\n",
    "        output_json = input_json\n",
    "    with open(output_json, 'w', encoding='utf-8') as jsonf:\n",
    "        jsonf.write(json.dumps(data, indent=4))\n",
    "    return output_json\n",
    "format_json('E:\\Hi5-data\\ViTPose\\\\temp_data\\person_keypoints_test3k.json')\n",
    "format_json('E:\\Hi5-data\\ViTPose\\\\temp_data\\person_keypoints_train10k.json')\n"
   ]
  },
  {
   "cell_type": "code",
   "execution_count": 2,
   "metadata": {},
   "outputs": [
    {
     "data": {
      "text/plain": [
       "True"
      ]
     },
     "execution_count": 2,
     "metadata": {},
     "output_type": "execute_result"
    }
   ],
   "source": [
    "import torch\n",
    "torch.cuda.is_available()\n",
    "# device = torch.device(\"cuda\")\n",
    "\n"
   ]
  },
  {
   "cell_type": "code",
   "execution_count": null,
   "metadata": {},
   "outputs": [],
   "source": [
    "\"\"\"\n",
    "Onehand10k Format:\n",
    "wrist\n",
    "thumb1-4\n",
    "forefinger1-4\n",
    "middle_finger1-4\n",
    "ring_finger1-4\n",
    "pinky_finger1-4\n",
    "\n",
    "Hi5 Format:\n",
    "wrist\n",
    "indexA-D\n",
    "middleA-D\n",
    "ringA-D\n",
    "pinkyA-D\n",
    "thumbA-D\n",
    "\n",
    "for clarification: \n",
    "        The lowest number label is the base of the finger\n",
    "        The highest number label is the tip of the finger\n",
    "        matches proper ordrer of the data_checker process (see data_checker.py, getKeypoints())\n",
    "\n",
    "    JSON format:\n",
    "        X,Y, 2\n",
    "        Wrist, IndexA-D, MiddleA-D, RingA-D, PinkyA-D, ThumbA-D\n",
    "\n",
    "rewrite onehand10k to match hi510k style\n",
    "\"\"\""
   ]
  }
 ],
 "metadata": {
  "kernelspec": {
   "display_name": "Python 3.10.6 64-bit",
   "language": "python",
   "name": "python3"
  },
  "language_info": {
   "codemirror_mode": {
    "name": "ipython",
    "version": 3
   },
   "file_extension": ".py",
   "mimetype": "text/x-python",
   "name": "python",
   "nbconvert_exporter": "python",
   "pygments_lexer": "ipython3",
   "version": "3.10.6"
  },
  "orig_nbformat": 4,
  "vscode": {
   "interpreter": {
    "hash": "916dbcbb3f70747c44a77c7bcd40155683ae19c65e1c03b4aa3499c5328201f1"
   }
  }
 },
 "nbformat": 4,
 "nbformat_minor": 2
}
