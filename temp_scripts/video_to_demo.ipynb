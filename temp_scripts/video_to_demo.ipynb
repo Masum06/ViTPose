{
 "cells": [
  {
   "cell_type": "code",
   "execution_count": null,
   "metadata": {},
   "outputs": [
    {
     "ename": "",
     "evalue": "",
     "output_type": "error",
     "traceback": [
      "\u001b[1;31mThe kernel failed to start due to the missing module 'pygments'. Consider installing this module.\n",
      "\u001b[1;31mClick <a href='https://aka.ms/kernelFailuresMissingModule'>here</a> for more info."
     ]
    }
   ],
   "source": [
    "import cv2\n",
    "import os\n",
    "import json"
   ]
  },
  {
   "attachments": {},
   "cell_type": "markdown",
   "metadata": {},
   "source": [
    "# Split video to frames"
   ]
  },
  {
   "cell_type": "code",
   "execution_count": null,
   "metadata": {},
   "outputs": [
    {
     "ename": "",
     "evalue": "",
     "output_type": "error",
     "traceback": [
      "\u001b[1;31mThe kernel failed to start due to the missing module 'pygments'. Consider installing this module.\n",
      "\u001b[1;31mClick <a href='https://aka.ms/kernelFailuresMissingModule'>here</a> for more info."
     ]
    }
   ],
   "source": [
    "video_path = '/home/hci-monster-linux/Documents/Hi5/alex_folder/Hi5-data/data/park_demo_vid/Video/IMG_3367.MOV'\n",
    "video = cv2.VideoCapture(video_path)\n",
    "out_path = '/home/hci-monster-linux/Documents/Hi5/alex_folder/Hi5-data/data/park_demo_vid/Images'"
   ]
  },
  {
   "cell_type": "code",
   "execution_count": null,
   "metadata": {},
   "outputs": [
    {
     "ename": "",
     "evalue": "",
     "output_type": "error",
     "traceback": [
      "\u001b[1;31mThe kernel failed to start due to the missing module 'pygments'. Consider installing this module.\n",
      "\u001b[1;31mClick <a href='https://aka.ms/kernelFailuresMissingModule'>here</a> for more info."
     ]
    }
   ],
   "source": [
    "frame_num = 0\n",
    "while (True):\n",
    "    success, frame = video.read()\n",
    "    if success:\n",
    "        cv2.imwrite(f'/home/hci-monster-linux/Documents/Hi5/alex_folder/Hi5-data/data/park_demo_vid/Images/{frame_num}.jpg', frame)\n",
    "        # print(f'/home/hci-monster-linux/Documents/Hi5/alex_folder/Hi5-data/data/park_demo_vid/Images/{frame_num}.jpg', )\n",
    "    else:\n",
    "        break\n",
    "    frame_num += 1\n",
    "video.release()\n"
   ]
  },
  {
   "attachments": {},
   "cell_type": "markdown",
   "metadata": {},
   "source": [
    "# Make JSON for the video frames"
   ]
  },
  {
   "cell_type": "code",
   "execution_count": null,
   "metadata": {},
   "outputs": [
    {
     "ename": "",
     "evalue": "",
     "output_type": "error",
     "traceback": [
      "\u001b[1;31mThe kernel failed to start due to the missing module 'pygments'. Consider installing this module.\n",
      "\u001b[1;31mClick <a href='https://aka.ms/kernelFailuresMissingModule'>here</a> for more info."
     ]
    }
   ],
   "source": [
    "image_path = out_path\n",
    "annotation_path = '/home/hci-monster-linux/Documents/Hi5/alex_folder/Hi5-data/data/park_demo_vid/annotations'"
   ]
  },
  {
   "cell_type": "code",
   "execution_count": null,
   "metadata": {},
   "outputs": [
    {
     "ename": "",
     "evalue": "",
     "output_type": "error",
     "traceback": [
      "\u001b[1;31mThe kernel failed to start due to the missing module 'pygments'. Consider installing this module.\n",
      "\u001b[1;31mClick <a href='https://aka.ms/kernelFailuresMissingModule'>here</a> for more info."
     ]
    }
   ],
   "source": [
    "ann_json = {}\n",
    "ann_json['info'] = {\n",
    "    'description': 'Park Demo',\n",
    "    'version': '1.0', #change this for each demo if we want to keep them organized\n",
    "    'year': '2023',\n",
    "    'date_created': '2023/1/26'\n",
    "}\n",
    "\n",
    "ann_json['licenses'] = ''\n",
    "ann_json['images'] = []\n",
    "ann_json['annotations'] = []"
   ]
  },
  {
   "cell_type": "code",
   "execution_count": null,
   "metadata": {},
   "outputs": [
    {
     "ename": "",
     "evalue": "",
     "output_type": "error",
     "traceback": [
      "\u001b[1;31mThe kernel failed to start due to the missing module 'pygments'. Consider installing this module.\n",
      "\u001b[1;31mClick <a href='https://aka.ms/kernelFailuresMissingModule'>here</a> for more info."
     ]
    }
   ],
   "source": [
    "# print([0,0,1]*(21))\n",
    "print(ann_json)"
   ]
  },
  {
   "cell_type": "code",
   "execution_count": null,
   "metadata": {},
   "outputs": [
    {
     "ename": "",
     "evalue": "",
     "output_type": "error",
     "traceback": [
      "\u001b[1;31mThe kernel failed to start due to the missing module 'pygments'. Consider installing this module.\n",
      "\u001b[1;31mClick <a href='https://aka.ms/kernelFailuresMissingModule'>here</a> for more info."
     ]
    }
   ],
   "source": [
    "\n",
    "bbox_path = '/home/hci-monster-linux/Documents/Hi5/data/coco/images/vid_2_bbox.txt'\n",
    "bboxes = []\n",
    "with open(bbox_path) as f:\n",
    "    for line in f:\n",
    "        #example line: [[778, 289, 1128, 532]]\n",
    "        line = line.replace('[','').replace(']','').replace(' ','')\n",
    "        line = line.split(',')\n",
    "        line = [int(x) for x in line]\n",
    "        bboxes.append(line)\n",
    "\n",
    "\n",
    "for filename in os.listdir(image_path):\n",
    "    index = int(filename.replace('.jpg',''))\n",
    "    file = os.path.join(image_path, filename)\n",
    "    image = cv2.imread(file)\n",
    "    height, width, _ = image.shape\n",
    "    # print(height,width)\n",
    "    #make the image dict for the image\n",
    "    image_dict = {}\n",
    "    image_dict['file_name'] = filename\n",
    "    image_dict['height'] = height\n",
    "    image_dict['width'] = width\n",
    "    image_dict['id'] = int(filename.replace('.jpg',''))\n",
    "    ann_json['images'].append(image_dict)\n",
    "\n",
    "    #make the annotation dict for the image\n",
    "    ann_dict = {}\n",
    "    ann_dict['bbox'] = bboxes[index]\n",
    "    ann_dict['keypoints'] = [0,0,1] *(21)\n",
    "    ann_dict['category_id'] = 1\n",
    "    ann_dict['id'] = int(filename.replace('.jpg',''))\n",
    "    ann_dict['image_id'] = int(filename.replace('.jpg',''))\n",
    "    segmentation = [[\n",
    "                    85,\n",
    "                    100,\n",
    "                    85,\n",
    "                    233.5,\n",
    "                    85,\n",
    "                    367,\n",
    "                    192.5,\n",
    "                    367,\n",
    "                    300,\n",
    "                    367,\n",
    "                    300,\n",
    "                    233.5,\n",
    "                    300,\n",
    "                    100,\n",
    "                    192.5,\n",
    "                    100\n",
    "                ]]\n",
    "    ann_dict['segmentation'] = segmentation\n",
    "    ann_dict['is_crowd'] = 0\n",
    "    ann_dict['area'] = height*width\n",
    "    ann_json['annotations'].append(ann_dict)\n",
    "\n",
    "    # print(json.dumps(ann_json, indent=4))\n",
    "    # break\n",
    "\n"
   ]
  },
  {
   "cell_type": "code",
   "execution_count": null,
   "metadata": {},
   "outputs": [
    {
     "ename": "",
     "evalue": "",
     "output_type": "error",
     "traceback": [
      "\u001b[1;31mThe kernel failed to start due to the missing module 'pygments'. Consider installing this module.\n",
      "\u001b[1;31mClick <a href='https://aka.ms/kernelFailuresMissingModule'>here</a> for more info."
     ]
    }
   ],
   "source": [
    "with open(\"/home/hci-monster-linux/Documents/Hi5/alex_folder/Hi5-data/data/park_demo_vid/annotations/annotations_bboxes.json\", \"w\") as outfile:\n",
    "    json.dump(ann_json, outfile, indent=4)"
   ]
  }
 ],
 "metadata": {
  "kernelspec": {
   "display_name": "vitpose8",
   "language": "python",
   "name": "python3"
  },
  "language_info": {
   "codemirror_mode": {
    "name": "ipython",
    "version": 3
   },
   "file_extension": ".py",
   "mimetype": "text/x-python",
   "name": "python",
   "nbconvert_exporter": "python",
   "pygments_lexer": "ipython3",
   "version": "3.9.15 (main, Nov 24 2022, 14:31:59) \n[GCC 11.2.0]"
  },
  "orig_nbformat": 4,
  "vscode": {
   "interpreter": {
    "hash": "3134027d3ef2f5b69aea7f8a0d4144462ef5a7a6711d247be67d82e937f09e68"
   }
  }
 },
 "nbformat": 4,
 "nbformat_minor": 2
}
